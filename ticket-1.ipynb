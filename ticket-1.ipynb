{
 "cells": [
  {
   "cell_type": "code",
   "execution_count": 1,
   "metadata": {},
   "outputs": [],
   "source": [
    "# Package Imports\n",
    "from os import makedirs\n",
    "from pandas import merge, read_parquet, to_datetime"
   ]
  },
  {
   "cell_type": "code",
   "execution_count": 2,
   "metadata": {},
   "outputs": [],
   "source": [
    "# Variables\n",
    "dest_folder = 'midp-307'\n",
    "ticket_2_agg = {'email': 'first',\n",
    "                'quantity': 'sum',\n",
    "                'last_name': 'first',\n",
    "                'first_name': 'first'}\n",
    "\n",
    "sales_loc = 'final_data/sales.parquet'\n",
    "customer_loc = 'final_data/customer.parquet'\n",
    "\n",
    "report_1_loc = f'{dest_folder}/sales_report.csv'\n",
    "report_2_loc = f'{dest_folder}/sales_report_active_member.csv'\n",
    "\n",
    "required_cols = ['customer_id', 'first_name', 'last_name', 'email',\n",
    "                 'quantity', 'effective_from', 'membership_status']"
   ]
  },
  {
   "cell_type": "code",
   "execution_count": 3,
   "metadata": {},
   "outputs": [],
   "source": [
    "# Data Extract\n",
    "sales_data = read_parquet(sales_loc)\n",
    "customer_data = read_parquet(customer_loc)"
   ]
  },
  {
   "cell_type": "code",
   "execution_count": 4,
   "metadata": {},
   "outputs": [],
   "source": [
    "# Create Ticket Folder\n",
    "makedirs(dest_folder, exist_ok=True)"
   ]
  },
  {
   "cell_type": "code",
   "execution_count": 5,
   "metadata": {},
   "outputs": [],
   "source": [
    "## Query 1\n",
    "# Data Cleaning\n",
    "customer_wise = sales_data.groupby('customer_id').quantity.sum().reset_index()\n",
    "\n",
    "merged_data = merge(customer_wise, customer_data,\n",
    "                    on='customer_id', how='inner')[required_cols]\n",
    "\n",
    "final_data = merged_data.loc[merged_data.groupby('customer_id')\\\n",
    "                                        .effective_from.idxmax()]\\\n",
    "                        .sort_values('quantity', ascending=False)\\\n",
    "                        [:10][required_cols[1:5]]\n",
    "\n",
    "# Data Load\n",
    "final_data.to_csv(report_1_loc, index=False)"
   ]
  },
  {
   "cell_type": "code",
   "execution_count": 6,
   "metadata": {},
   "outputs": [],
   "source": [
    "## Query 2\n",
    "# Data Cleaning\n",
    "sales_data.sale_date = to_datetime(sales_data.sale_date)\n",
    "active_cust = customer_data[customer_data.membership_status == 'active']\n",
    "\n",
    "merged_data = merge(sales_data, active_cust, on='customer_id',\n",
    "                    how='inner', suffixes=['', '_cust'])\n",
    "merged_data = merged_data[merged_data.sale_date\\\n",
    "                                     .between(merged_data.effective_from_cust,\n",
    "                                              merged_data.expiry_date_cust)]\\\n",
    "                         .drop_duplicates('sale_id')\n",
    "\n",
    "final_data = merged_data.groupby('customer_id').agg(ticket_2_agg)\\\n",
    "                        .reset_index().sort_values('quantity',\n",
    "                                                   ascending=False)\\\n",
    "                        [:10][required_cols[1:5]]\n",
    "\n",
    "# Data Load\n",
    "final_data.to_csv(report_2_loc, index=False)"
   ]
  },
  {
   "cell_type": "code",
   "execution_count": 8,
   "metadata": {},
   "outputs": [
    {
     "data": {
      "text/html": [
       "<div>\n",
       "<style scoped>\n",
       "    .dataframe tbody tr th:only-of-type {\n",
       "        vertical-align: middle;\n",
       "    }\n",
       "\n",
       "    .dataframe tbody tr th {\n",
       "        vertical-align: top;\n",
       "    }\n",
       "\n",
       "    .dataframe thead th {\n",
       "        text-align: right;\n",
       "    }\n",
       "</style>\n",
       "<table border=\"1\" class=\"dataframe\">\n",
       "  <thead>\n",
       "    <tr style=\"text-align: right;\">\n",
       "      <th></th>\n",
       "      <th>is_current</th>\n",
       "      <th>expiry_date</th>\n",
       "      <th>effective_from</th>\n",
       "      <th>customer_id</th>\n",
       "      <th>hash</th>\n",
       "      <th>first_name</th>\n",
       "      <th>last_name</th>\n",
       "      <th>gender</th>\n",
       "      <th>email</th>\n",
       "      <th>membership_status</th>\n",
       "      <th>address</th>\n",
       "      <th>phone_number</th>\n",
       "      <th>date_of_birth</th>\n",
       "      <th>job</th>\n",
       "      <th>company</th>\n",
       "      <th>city</th>\n",
       "      <th>state</th>\n",
       "      <th>country</th>\n",
       "      <th>language</th>\n",
       "    </tr>\n",
       "  </thead>\n",
       "  <tbody>\n",
       "    <tr>\n",
       "      <th>2488</th>\n",
       "      <td>False</td>\n",
       "      <td>2024-10-10</td>\n",
       "      <td>2024-10-09</td>\n",
       "      <td>416636781440851074</td>\n",
       "      <td>9140524628082735876</td>\n",
       "      <td>Kathryn</td>\n",
       "      <td>Patterson</td>\n",
       "      <td>M</td>\n",
       "      <td>lisajones@example.org</td>\n",
       "      <td>active</td>\n",
       "      <td>02583 Nicole Trail\\nAustinshire, OR 29054</td>\n",
       "      <td>None</td>\n",
       "      <td>1976-12-18</td>\n",
       "      <td>Surveyor, insurance</td>\n",
       "      <td>Sandoval-Davis</td>\n",
       "      <td>Jamesstad</td>\n",
       "      <td>None</td>\n",
       "      <td>Tanzania</td>\n",
       "      <td>en-US</td>\n",
       "    </tr>\n",
       "    <tr>\n",
       "      <th>5071</th>\n",
       "      <td>True</td>\n",
       "      <td>2099-12-31</td>\n",
       "      <td>2024-10-10</td>\n",
       "      <td>416636781440851074</td>\n",
       "      <td>1547775518071631588</td>\n",
       "      <td>Kathryn</td>\n",
       "      <td>Campbell</td>\n",
       "      <td>M</td>\n",
       "      <td>lisajones@example.org</td>\n",
       "      <td>active</td>\n",
       "      <td>02583 Nicole Trail\\nAustinshire, OR 29054</td>\n",
       "      <td>None</td>\n",
       "      <td>1976-12-18</td>\n",
       "      <td>Surveyor, insurance</td>\n",
       "      <td>Sandoval-Davis</td>\n",
       "      <td>Jamesstad</td>\n",
       "      <td>None</td>\n",
       "      <td>Tanzania</td>\n",
       "      <td>en-US</td>\n",
       "    </tr>\n",
       "  </tbody>\n",
       "</table>\n",
       "</div>"
      ],
      "text/plain": [
       "      is_current expiry_date effective_from         customer_id  \\\n",
       "2488       False  2024-10-10     2024-10-09  416636781440851074   \n",
       "5071        True  2099-12-31     2024-10-10  416636781440851074   \n",
       "\n",
       "                     hash first_name  last_name gender                  email  \\\n",
       "2488  9140524628082735876    Kathryn  Patterson      M  lisajones@example.org   \n",
       "5071  1547775518071631588    Kathryn   Campbell      M  lisajones@example.org   \n",
       "\n",
       "     membership_status                                    address  \\\n",
       "2488            active  02583 Nicole Trail\\nAustinshire, OR 29054   \n",
       "5071            active  02583 Nicole Trail\\nAustinshire, OR 29054   \n",
       "\n",
       "     phone_number date_of_birth                  job         company  \\\n",
       "2488         None    1976-12-18  Surveyor, insurance  Sandoval-Davis   \n",
       "5071         None    1976-12-18  Surveyor, insurance  Sandoval-Davis   \n",
       "\n",
       "           city state   country language  \n",
       "2488  Jamesstad  None  Tanzania    en-US  \n",
       "5071  Jamesstad  None  Tanzania    en-US  "
      ]
     },
     "execution_count": 8,
     "metadata": {},
     "output_type": "execute_result"
    }
   ],
   "source": [
    "customer_data[customer_data.email == 'lisajones@example.org']"
   ]
  }
 ],
 "metadata": {
  "kernelspec": {
   "display_name": ".venv",
   "language": "python",
   "name": "python3"
  },
  "language_info": {
   "codemirror_mode": {
    "name": "ipython",
    "version": 3
   },
   "file_extension": ".py",
   "mimetype": "text/x-python",
   "name": "python",
   "nbconvert_exporter": "python",
   "pygments_lexer": "ipython3",
   "version": "3.11.2"
  }
 },
 "nbformat": 4,
 "nbformat_minor": 2
}
