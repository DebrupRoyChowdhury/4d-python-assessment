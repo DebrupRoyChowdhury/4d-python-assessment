{
 "cells": [
  {
   "cell_type": "markdown",
   "metadata": {},
   "source": [
    "## Setup"
   ]
  },
  {
   "cell_type": "code",
   "execution_count": 1,
   "metadata": {},
   "outputs": [],
   "source": [
    "import pandas as pd\n",
    "import logging \n",
    "import sys\n",
    "import os\n",
    "sys.path.insert(0,'./src')\n",
    "\n",
    "\n",
    "from src.utils.logger import sys_logger\n",
    "\n",
    "os.makedirs(\"./final_data\", exist_ok=True)"
   ]
  },
  {
   "cell_type": "markdown",
   "metadata": {},
   "source": [
    "## Landing Zone to Staging"
   ]
  },
  {
   "cell_type": "code",
   "execution_count": 2,
   "metadata": {},
   "outputs": [
    {
     "name": "stderr",
     "output_type": "stream",
     "text": [
      "[splitter.py:9]                 Files in landing zone: ['products_20241012.json', 'customer_20241013.csv', 'products_20241011.json', 'sales_20241011.txt', 'sales_20241015.txt', 'customer_20241011.csv', 'sales_20241012.txt', 'sales_20241013.txt', 'products_20241010.json', 'customer_20241010.csv', 'sales_20241010.txt', 'products_20241009.json', 'customer_20241015.csv', 'customer_20241009.csv', 'customer_20241014.csv', 'products_20241014.json', 'products_20241015.json', 'products_20241013.json', 'customer_20241012.csv', 'sales_20241009.txt', 'sales_20241014.txt']\n",
      "[splitter.py:14]                products_20241012.json matched with product\n",
      "[splitter.py:17]                products_20241012.json moved to ./data/products/\n",
      "[splitter.py:14]                customer_20241013.csv matched with customer\n",
      "[splitter.py:17]                customer_20241013.csv moved to ./data/customer/\n",
      "[splitter.py:14]                products_20241011.json matched with product\n",
      "[splitter.py:17]                products_20241011.json moved to ./data/products/\n",
      "[splitter.py:14]                sales_20241011.txt matched with sales\n",
      "[splitter.py:17]                sales_20241011.txt moved to ./data/sales/\n",
      "[splitter.py:14]                sales_20241015.txt matched with sales\n",
      "[splitter.py:17]                sales_20241015.txt moved to ./data/sales/\n",
      "[splitter.py:14]                customer_20241011.csv matched with customer\n",
      "[splitter.py:17]                customer_20241011.csv moved to ./data/customer/\n",
      "[splitter.py:14]                sales_20241012.txt matched with sales\n",
      "[splitter.py:17]                sales_20241012.txt moved to ./data/sales/\n",
      "[splitter.py:14]                sales_20241013.txt matched with sales\n",
      "[splitter.py:17]                sales_20241013.txt moved to ./data/sales/\n",
      "[splitter.py:14]                products_20241010.json matched with product\n",
      "[splitter.py:17]                products_20241010.json moved to ./data/products/\n",
      "[splitter.py:14]                customer_20241010.csv matched with customer\n",
      "[splitter.py:17]                customer_20241010.csv moved to ./data/customer/\n",
      "[splitter.py:14]                sales_20241010.txt matched with sales\n",
      "[splitter.py:17]                sales_20241010.txt moved to ./data/sales/\n",
      "[splitter.py:14]                products_20241009.json matched with product\n",
      "[splitter.py:17]                products_20241009.json moved to ./data/products/\n",
      "[splitter.py:14]                customer_20241015.csv matched with customer\n",
      "[splitter.py:17]                customer_20241015.csv moved to ./data/customer/\n",
      "[splitter.py:14]                customer_20241009.csv matched with customer\n",
      "[splitter.py:17]                customer_20241009.csv moved to ./data/customer/\n",
      "[splitter.py:14]                customer_20241014.csv matched with customer\n",
      "[splitter.py:17]                customer_20241014.csv moved to ./data/customer/\n",
      "[splitter.py:14]                products_20241014.json matched with product\n",
      "[splitter.py:17]                products_20241014.json moved to ./data/products/\n",
      "[splitter.py:14]                products_20241015.json matched with product\n",
      "[splitter.py:17]                products_20241015.json moved to ./data/products/\n",
      "[splitter.py:14]                products_20241013.json matched with product\n",
      "[splitter.py:17]                products_20241013.json moved to ./data/products/\n",
      "[splitter.py:14]                customer_20241012.csv matched with customer\n",
      "[splitter.py:17]                customer_20241012.csv moved to ./data/customer/\n",
      "[splitter.py:14]                sales_20241009.txt matched with sales\n",
      "[splitter.py:17]                sales_20241009.txt moved to ./data/sales/\n",
      "[splitter.py:14]                sales_20241014.txt matched with sales\n",
      "[splitter.py:17]                sales_20241014.txt moved to ./data/sales/\n"
     ]
    }
   ],
   "source": [
    "from src.utils.splitter import split_files\n",
    "\n",
    "split_files()"
   ]
  },
  {
   "cell_type": "markdown",
   "metadata": {},
   "source": [
    "## Staging to Tables"
   ]
  },
  {
   "cell_type": "code",
   "execution_count": null,
   "metadata": {},
   "outputs": [],
   "source": [
    "from src.utils.ingestion import run_ingestion\n",
    "\n",
    "run_ingestion()"
   ]
  },
  {
   "cell_type": "markdown",
   "metadata": {},
   "source": [
    "## Report Generation"
   ]
  },
  {
   "cell_type": "code",
   "execution_count": null,
   "metadata": {},
   "outputs": [],
   "source": [
    "from matplotlib import pyplot as plt"
   ]
  },
  {
   "cell_type": "markdown",
   "metadata": {},
   "source": [
    "### Customer Growth"
   ]
  },
  {
   "cell_type": "code",
   "execution_count": null,
   "metadata": {},
   "outputs": [],
   "source": [
    "customers = pd.read_parquet('./final_data/customer.parquet')\n",
    "\n",
    "dates = customers['effective_from'].unique()\n",
    "\n",
    "data = []\n",
    "for date in sorted(dates):\n",
    "    snapshot = customers[(customers['effective_from'] <= date) & (customers['expiry_date'] > date)]\n",
    "    data.append({'date': date, 'count': len(snapshot)})\n",
    "\n",
    "df = pd.DataFrame(data)\n",
    "df.plot(x='date', y='count')\n",
    "plt.title('Customer Growth')\n",
    "plt.xlabel('Date')\n",
    "plt.ylabel('Number of Customers')\n",
    "plt.show()"
   ]
  },
  {
   "cell_type": "markdown",
   "metadata": {},
   "source": [
    "### Sales By Membership"
   ]
  },
  {
   "cell_type": "code",
   "execution_count": null,
   "metadata": {},
   "outputs": [],
   "source": [
    "# Sales By Members\n",
    "customers = pd.read_parquet('./final_data/customer.parquet')\n",
    "\n",
    "dates = customers['effective_from'].unique()\n",
    "sales = pd.read_parquet('./final_data/sales.parquet')\n",
    "merged = sales.merge(customers, on='customer_id', how='outer')\n",
    "merged = merged[(merged['effective_from_y'] <= merged['sale_date']) & (merged['expiry_date_y'] > merged['sale_date'])]\n",
    "data = merged.groupby(['sale_date', 'membership_status'])['total_price'].sum().unstack().fillna(0)\n",
    "\n",
    "data.plot()\n",
    "plt.title('Sales by Membership Status')\n",
    "plt.xlabel('Date')\n",
    "plt.ylabel('Total Sales')\n",
    "plt.show()"
   ]
  },
  {
   "cell_type": "markdown",
   "metadata": {},
   "source": [
    "### Product Sale Breakdown"
   ]
  },
  {
   "cell_type": "code",
   "execution_count": null,
   "metadata": {},
   "outputs": [],
   "source": [
    "# pivot of most popular products over time from members vs non-members\n",
    "\n",
    "products = pd.read_parquet('./final_data/product.parquet')\n",
    "customers = pd.read_parquet('./final_data/customer.parquet')\n",
    "sales = pd.read_parquet('./final_data/sales.parquet')\n",
    "\n",
    "merged = sales.merge(customers, on='customer_id', how='outer')\n",
    "merged = merged[(merged['effective_from_y'] <= merged['sale_date']) & (merged['expiry_date_y'] > merged['sale_date'])]\n",
    "merged_with_products = merged.merge(products, on='product_id', how='left')\n",
    "data = merged_with_products.groupby(['sale_date', 'membership_status', 'name'])['total_price'].sum().unstack().fillna(0)\n",
    "\n",
    "data"
   ]
  },
  {
   "cell_type": "code",
   "execution_count": null,
   "metadata": {},
   "outputs": [],
   "source": []
  }
 ],
 "metadata": {
  "kernelspec": {
   "display_name": ".venv",
   "language": "python",
   "name": "python3"
  },
  "language_info": {
   "codemirror_mode": {
    "name": "ipython",
    "version": 3
   },
   "file_extension": ".py",
   "mimetype": "text/x-python",
   "name": "python",
   "nbconvert_exporter": "python",
   "pygments_lexer": "ipython3",
   "version": "3.10.8"
  },
  "orig_nbformat": 4
 },
 "nbformat": 4,
 "nbformat_minor": 2
}
